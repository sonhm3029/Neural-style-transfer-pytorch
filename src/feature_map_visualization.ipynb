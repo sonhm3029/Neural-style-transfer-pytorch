{
 "cells": [
  {
   "cell_type": "code",
   "execution_count": 14,
   "metadata": {},
   "outputs": [],
   "source": [
    "import torch\n",
    "import torchvision\n",
    "from torchsummary import summary\n",
    "from torchvision.models.vgg import vgg16\n",
    "import matplotlib.pyplot as plt\n",
    "\n",
    "%matplotlib inline\n"
   ]
  },
  {
   "cell_type": "code",
   "execution_count": 2,
   "metadata": {},
   "outputs": [
    {
     "name": "stderr",
     "output_type": "stream",
     "text": [
      "c:\\Users\\hoang\\anaconda3\\lib\\site-packages\\torchvision\\models\\_utils.py:208: UserWarning: The parameter 'pretrained' is deprecated since 0.13 and may be removed in the future, please use 'weights' instead.\n",
      "  warnings.warn(\n",
      "c:\\Users\\hoang\\anaconda3\\lib\\site-packages\\torchvision\\models\\_utils.py:223: UserWarning: Arguments other than a weight enum or `None` for 'weights' are deprecated since 0.13 and may be removed in the future. The current behavior is equivalent to passing `weights=None`.\n",
      "  warnings.warn(msg)\n"
     ]
    },
    {
     "name": "stdout",
     "output_type": "stream",
     "text": [
      "----------------------------------------------------------------\n",
      "        Layer (type)               Output Shape         Param #\n",
      "================================================================\n",
      "            Conv2d-1         [-1, 64, 224, 224]           1,792\n",
      "              ReLU-2         [-1, 64, 224, 224]               0\n",
      "            Conv2d-3         [-1, 64, 224, 224]          36,928\n",
      "              ReLU-4         [-1, 64, 224, 224]               0\n",
      "         MaxPool2d-5         [-1, 64, 112, 112]               0\n",
      "            Conv2d-6        [-1, 128, 112, 112]          73,856\n",
      "              ReLU-7        [-1, 128, 112, 112]               0\n",
      "            Conv2d-8        [-1, 128, 112, 112]         147,584\n",
      "              ReLU-9        [-1, 128, 112, 112]               0\n",
      "        MaxPool2d-10          [-1, 128, 56, 56]               0\n",
      "           Conv2d-11          [-1, 256, 56, 56]         295,168\n",
      "             ReLU-12          [-1, 256, 56, 56]               0\n",
      "           Conv2d-13          [-1, 256, 56, 56]         590,080\n",
      "             ReLU-14          [-1, 256, 56, 56]               0\n",
      "           Conv2d-15          [-1, 256, 56, 56]         590,080\n",
      "             ReLU-16          [-1, 256, 56, 56]               0\n",
      "        MaxPool2d-17          [-1, 256, 28, 28]               0\n",
      "           Conv2d-18          [-1, 512, 28, 28]       1,180,160\n",
      "             ReLU-19          [-1, 512, 28, 28]               0\n",
      "           Conv2d-20          [-1, 512, 28, 28]       2,359,808\n",
      "             ReLU-21          [-1, 512, 28, 28]               0\n",
      "           Conv2d-22          [-1, 512, 28, 28]       2,359,808\n",
      "             ReLU-23          [-1, 512, 28, 28]               0\n",
      "        MaxPool2d-24          [-1, 512, 14, 14]               0\n",
      "           Conv2d-25          [-1, 512, 14, 14]       2,359,808\n",
      "             ReLU-26          [-1, 512, 14, 14]               0\n",
      "           Conv2d-27          [-1, 512, 14, 14]       2,359,808\n",
      "             ReLU-28          [-1, 512, 14, 14]               0\n",
      "           Conv2d-29          [-1, 512, 14, 14]       2,359,808\n",
      "             ReLU-30          [-1, 512, 14, 14]               0\n",
      "        MaxPool2d-31            [-1, 512, 7, 7]               0\n",
      "AdaptiveAvgPool2d-32            [-1, 512, 7, 7]               0\n",
      "           Linear-33                 [-1, 4096]     102,764,544\n",
      "             ReLU-34                 [-1, 4096]               0\n",
      "          Dropout-35                 [-1, 4096]               0\n",
      "           Linear-36                 [-1, 4096]      16,781,312\n",
      "             ReLU-37                 [-1, 4096]               0\n",
      "          Dropout-38                 [-1, 4096]               0\n",
      "           Linear-39                 [-1, 1000]       4,097,000\n",
      "================================================================\n",
      "Total params: 138,357,544\n",
      "Trainable params: 138,357,544\n",
      "Non-trainable params: 0\n",
      "----------------------------------------------------------------\n",
      "Input size (MB): 0.57\n",
      "Forward/backward pass size (MB): 218.78\n",
      "Params size (MB): 527.79\n",
      "Estimated Total Size (MB): 747.15\n",
      "----------------------------------------------------------------\n"
     ]
    }
   ],
   "source": [
    "model = vgg16(pretrained=False)\n",
    "\n",
    "\n",
    "summary(model,(3,224, 224))"
   ]
  },
  {
   "attachments": {},
   "cell_type": "markdown",
   "metadata": {},
   "source": [
    "# Visualize filters"
   ]
  },
  {
   "attachments": {},
   "cell_type": "markdown",
   "metadata": {},
   "source": [
    "## See network conv layer info"
   ]
  },
  {
   "cell_type": "code",
   "execution_count": 13,
   "metadata": {},
   "outputs": [
    {
     "name": "stdout",
     "output_type": "stream",
     "text": [
      "<class 'torch.nn.modules.conv.Conv2d'>: torch.Size([64, 3, 3, 3])\n",
      "<class 'torch.nn.modules.conv.Conv2d'>: torch.Size([64, 64, 3, 3])\n",
      "<class 'torch.nn.modules.conv.Conv2d'>: torch.Size([128, 64, 3, 3])\n",
      "<class 'torch.nn.modules.conv.Conv2d'>: torch.Size([128, 128, 3, 3])\n",
      "<class 'torch.nn.modules.conv.Conv2d'>: torch.Size([256, 128, 3, 3])\n",
      "<class 'torch.nn.modules.conv.Conv2d'>: torch.Size([256, 256, 3, 3])\n",
      "<class 'torch.nn.modules.conv.Conv2d'>: torch.Size([256, 256, 3, 3])\n",
      "<class 'torch.nn.modules.conv.Conv2d'>: torch.Size([512, 256, 3, 3])\n",
      "<class 'torch.nn.modules.conv.Conv2d'>: torch.Size([512, 512, 3, 3])\n",
      "<class 'torch.nn.modules.conv.Conv2d'>: torch.Size([512, 512, 3, 3])\n",
      "<class 'torch.nn.modules.conv.Conv2d'>: torch.Size([512, 512, 3, 3])\n",
      "<class 'torch.nn.modules.conv.Conv2d'>: torch.Size([512, 512, 3, 3])\n",
      "<class 'torch.nn.modules.conv.Conv2d'>: torch.Size([512, 512, 3, 3])\n"
     ]
    }
   ],
   "source": [
    "for layer in model.features:\n",
    "    if isinstance(layer, torch.nn.modules.conv.Conv2d):\n",
    "        # Expected: [out_channels, in_channels/ groups, kernel_size[0], kernel_size[1]]\n",
    "        print(f\"{type(layer)}: {layer.weight.shape}\")"
   ]
  },
  {
   "cell_type": "code",
   "execution_count": 8,
   "metadata": {},
   "outputs": [],
   "source": [
    "filters = model.features[0].weight"
   ]
  },
  {
   "cell_type": "code",
   "execution_count": 11,
   "metadata": {},
   "outputs": [
    {
     "data": {
      "text/plain": [
       "(tensor(-0.2136, grad_fn=<MinBackward1>),\n",
       " tensor(0.2068, grad_fn=<MaxBackward1>))"
      ]
     },
     "execution_count": 11,
     "metadata": {},
     "output_type": "execute_result"
    }
   ],
   "source": [
    "f_min, f_max = filters.min(), filters.max()\n",
    "f_min, f_max"
   ]
  },
  {
   "cell_type": "code",
   "execution_count": 12,
   "metadata": {},
   "outputs": [],
   "source": [
    "filters = (filters - f_min) / (f_max - f_min)"
   ]
  },
  {
   "attachments": {},
   "cell_type": "markdown",
   "metadata": {},
   "source": [
    "## Visualize 6 filters of 64 filters in first conv layer"
   ]
  },
  {
   "cell_type": "code",
   "execution_count": 23,
   "metadata": {},
   "outputs": [
    {
     "data": {
      "text/plain": [
       "tensor([[[0.4341, 0.4699, 0.3370],\n",
       "         [0.3785, 0.5232, 0.6779],\n",
       "         [0.2880, 0.5704, 0.5272]],\n",
       "\n",
       "        [[0.5893, 0.4649, 0.8367],\n",
       "         [0.3918, 0.6100, 0.5945],\n",
       "         [0.6224, 0.3004, 0.4591]],\n",
       "\n",
       "        [[0.2451, 0.4387, 0.7251],\n",
       "         [0.8092, 0.7080, 0.6209],\n",
       "         [0.6738, 0.3230, 0.5855]]], grad_fn=<SliceBackward0>)"
      ]
     },
     "execution_count": 23,
     "metadata": {},
     "output_type": "execute_result"
    }
   ],
   "source": [
    "filters[1, :, :, :]"
   ]
  },
  {
   "cell_type": "code",
   "execution_count": 21,
   "metadata": {},
   "outputs": [
    {
     "data": {
      "text/plain": [
       "array([[[0.43414724, 0.46993592, 0.33703482],\n",
       "        [0.37846366, 0.5232472 , 0.67787534],\n",
       "        [0.2880041 , 0.5704007 , 0.52717894]],\n",
       "\n",
       "       [[0.5892953 , 0.46486336, 0.836672  ],\n",
       "        [0.3917931 , 0.60995895, 0.5944852 ],\n",
       "        [0.62240744, 0.30039832, 0.45913073]],\n",
       "\n",
       "       [[0.24508949, 0.43873158, 0.7251381 ],\n",
       "        [0.80920064, 0.70800215, 0.62092906],\n",
       "        [0.67378104, 0.32304278, 0.5855075 ]]], dtype=float32)"
      ]
     },
     "execution_count": 21,
     "metadata": {},
     "output_type": "execute_result"
    }
   ],
   "source": [
    "filters[1, :, :, :].detach().numpy()"
   ]
  },
  {
   "cell_type": "code",
   "execution_count": 29,
   "metadata": {},
   "outputs": [
    {
     "data": {
      "image/png": "[encoded data removed]",
      "text/plain": [
       "<Figure size 640x480 with 18 Axes>"
      ]
     },
     "metadata": {},
     "output_type": "display_data"
    }
   ],
   "source": [
    "n_filters, ix = 6, 1\n",
    "\n",
    "for i in range(n_filters):\n",
    "    f = filters[i, :, :, :].detach().numpy()\n",
    "    \n",
    "    # Plot each channel separately\n",
    "    for j in range(3):\n",
    "        ax = plt.subplot(n_filters, 3, ix)\n",
    "        ax.set_xticks([])\n",
    "        ax.set_yticks([])\n",
    "        \n",
    "        # Plot filter channel in gray scale\n",
    "        plt.imshow(f[j, :, :], cmap='gray')\n",
    "        ix +=1\n",
    "        \n",
    "plt.show()"
   ]
  },
  {
   "attachments": {},
   "cell_type": "markdown",
   "metadata": {},
   "source": [
    "# Visualize feature maps"
   ]
  }
 ],
 "metadata": {
  "kernelspec": {
   "display_name": "base",
   "language": "python",
   "name": "python3"
  },
  "language_info": {
   "codemirror_mode": {
    "name": "ipython",
    "version": 3
   },
   "file_extension": ".py",
   "mimetype": "text/x-python",
   "name": "python",
   "nbconvert_exporter": "python",
   "pygments_lexer": "ipython3",
   "version": "3.9.13"
  },
  "orig_nbformat": 4
 },
 "nbformat": 4,
 "nbformat_minor": 2
}
